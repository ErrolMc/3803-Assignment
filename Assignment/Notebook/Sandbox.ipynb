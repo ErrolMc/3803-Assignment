{
 "cells": [
  {
   "cell_type": "markdown",
   "id": "answering-genius",
   "metadata": {},
   "source": [
    "### Imports"
   ]
  },
  {
   "cell_type": "code",
   "execution_count": 2,
   "id": "broadband-blood",
   "metadata": {},
   "outputs": [],
   "source": [
    "import pandas as pd\n",
    "import matplotlib.pyplot as plt\n",
    "from datetime import datetime\n",
    "%matplotlib inline\n",
    "import seaborn\n",
    "import re"
   ]
  },
  {
   "cell_type": "markdown",
   "id": "subjective-grain",
   "metadata": {},
   "source": [
    "### Read Data"
   ]
  },
  {
   "cell_type": "code",
   "execution_count": 3,
   "id": "disciplinary-tenant",
   "metadata": {},
   "outputs": [],
   "source": [
    "df = pd.read_csv('data.csv', parse_dates=True, dtype = {'Id':'string', 'Title': 'string', 'Company': 'string', 'Date': 'string', 'Location': 'string', 'Area': 'string', 'Classification': 'string', 'SubClassification': 'string', 'Requirement': 'string', 'FullDescription': 'string', 'LowestSalary': 'int', 'HighestSalary': 'int', 'JobType': 'string'})\n",
    "df['Id'] = df['Id'].str.extract('(^[0-9]+)').astype(int)                         \n",
    "df['Date'] = pd.to_datetime(df['Date'])"
   ]
  },
  {
   "cell_type": "markdown",
   "id": "proof-coaching",
   "metadata": {},
   "source": [
    "### What are the popular "
   ]
  },
  {
   "cell_type": "code",
   "execution_count": 4,
   "id": "exposed-basic",
   "metadata": {},
   "outputs": [
    {
     "name": "stdout",
     "output_type": "stream",
     "text": [
      "('Self Employment', 93)\n",
      "('Advertising, Arts & Media', 833)\n",
      "('CEO & General Management', 844)\n",
      "('Farming, Animals & Conservation', 882)\n",
      "('Science & Technology', 905)\n",
      "('Sport & Recreation', 984)\n",
      "('Consulting & Strategy', 1206)\n",
      "('Insurance & Superannuation', 1474)\n",
      "('Design & Architecture', 1811)\n",
      "('Real Estate & Property', 3614)\n",
      "('Marketing & Communications', 3968)\n",
      "('Call Centre & Customer Service', 3971)\n",
      "('Human Resources & Recruitment', 4144)\n",
      "('Legal', 4237)\n",
      "('Community Services & Development', 4485)\n",
      "('Banking & Financial Services', 4633)\n",
      "('Mining, Resources & Energy', 6288)\n",
      "('Engineering', 6458)\n",
      "('Government & Defence', 7443)\n",
      "('Retail & Consumer Products', 8041)\n",
      "('Sales', 8119)\n",
      "('Construction', 8372)\n",
      "('Education & Training', 9280)\n",
      "('Accounting', 9368)\n",
      "('Administration & Office Support', 10020)\n",
      "('Manufacturing, Transport & Logistics', 12376)\n",
      "('Hospitality & Tourism', 15523)\n",
      "('Healthcare & Medical', 17085)\n",
      "('Trades & Services', 17976)\n",
      "('Information & Communication Technology', 22796)\n",
      "(<NA>, 121248)\n"
     ]
    }
   ],
   "source": [
    "counts = dict()\n",
    "for row in df[\"Classification\"]:\n",
    "    if row not in counts:\n",
    "        counts.update({row: 1})\n",
    "    else:\n",
    "        counts[row] += 1\n",
    "\n",
    "categories = list()\n",
    "for key in counts:\n",
    "    categories.append((key, counts[key]))\n",
    "\n",
    "categories.sort(key=lambda tup: tup[1])\n",
    "\n",
    "for tup in categories:\n",
    "    print(tup)"
   ]
  },
  {
   "cell_type": "code",
   "execution_count": 6,
   "id": "solar-master",
   "metadata": {},
   "outputs": [
    {
     "name": "stdout",
     "output_type": "stream",
     "text": [
      "('Central & South East TAS', 57)\n",
      "('Fleurieu Peninsula & Kangaroo Island', 64)\n",
      "('Somerset & Lockyer', 65)\n",
      "('Tumut, Snowy & Monaro', 86)\n",
      "('Yorke Peninsula & Clare Valley', 96)\n",
      "('Coober Pedy & Outback SA', 112)\n",
      "('Richmond & Hawkesbury', 140)\n",
      "('Riverland & Murray Mallee', 149)\n",
      "('Albany & Great Southern', 150)\n",
      "('Northam & Wheatbelt', 160)\n",
      "('Mt Gambier & Limestone Coast', 168)\n",
      "('Katherine & Northern Australia', 187)\n",
      "('Adelaide Hills & Barossa', 193)\n",
      "('Far West & North Central NSW', 197)\n",
      "('Whyalla & Eyre Peninsula', 201)\n",
      "('Horsham & Grampians', 209)\n",
      "('Mandurah & Peel', 250)\n",
      "('Devonport & North West', 256)\n",
      "('Broome & Kimberley', 283)\n",
      "('Hervey Bay & Fraser Coast', 285)\n",
      "('Alice Springs & Central Australia', 301)\n",
      "('Mildura & Murray', 307)\n",
      "('Geraldton, Gascoyne & Midwest', 341)\n",
      "('Bairnsdale & Gippsland', 378)\n",
      "('Launceston & North East', 388)\n",
      "('Bundaberg & Wide Bay Burnett', 409)\n",
      "('Albury Area', 416)\n",
      "('Coffs Harbour & North Coast', 440)\n",
      "('Southern Highlands & Tablelands', 465)\n",
      "('Port Macquarie & Mid North Coast', 469)\n",
      "('Yarra Valley & High Country', 499)\n",
      "('Western QLD', 514)\n",
      "('West Gippsland & Latrobe Valley', 576)\n",
      "('Shepparton & Goulburn Valley', 601)\n",
      "('Ballarat & Central Highlands', 603)\n",
      "('Tamworth & North West NSW', 610)\n",
      "('Bunbury & South West', 635)\n",
      "('Dubbo & Central NSW', 642)\n",
      "('Gladstone & Central QLD', 712)\n",
      "('Rockhampton & Capricorn Coast', 728)\n",
      "('Mornington Peninsula & Bass Coast', 739)\n",
      "('Wagga Wagga & Riverina', 802)\n",
      "('Bendigo, Goldfields & Macedon Ranges', 808)\n",
      "('Lismore & Far North Coast', 817)\n",
      "('Kalgoorlie, Goldfields & Esperance', 870)\n",
      "('Blue Mountains & Central West', 942)\n",
      "('Hobart', 1051)\n",
      "('Darwin', 1266)\n",
      "('Toowoomba & Darling Downs', 1310)\n",
      "('Gosford & Central Coast', 1343)\n",
      "('Northern QLD', 1493)\n",
      "('Cairns & Far North', 1509)\n",
      "('Sunshine Coast', 1554)\n",
      "('Wollongong, Illawarra & South Coast', 1657)\n",
      "('Port Hedland, Karratha & Pilbara', 1667)\n",
      "('Mackay & Coalfields', 1701)\n",
      "('South West Coast VIC', 1790)\n",
      "('Gold Coast', 3588)\n",
      "('Newcastle, Maitland & Hunter', 3958)\n",
      "('ACT', 6250)\n",
      "('Adelaide', 6653)\n",
      "('Perth', 13198)\n",
      "('Brisbane', 21466)\n",
      "('Melbourne', 46690)\n",
      "('Sydney', 60765)\n",
      "(<NA>, 121248)\n"
     ]
    }
   ],
   "source": [
    "cities = dict()\n",
    "for row in df[\"Location\"]:\n",
    "    if row not in cities:\n",
    "        cities.update({row: 1})\n",
    "    else:\n",
    "        cities[row] += 1\n",
    "\n",
    "cityList = list()\n",
    "for key in cities:\n",
    "    cityList.append((key, cities[key]))\n",
    "\n",
    "cityList.sort(key=lambda tup: tup[1])\n",
    "\n",
    "for tup in cityList:\n",
    "    print(tup)"
   ]
  },
  {
   "cell_type": "code",
   "execution_count": null,
   "id": "million-flavor",
   "metadata": {},
   "outputs": [],
   "source": []
  }
 ],
 "metadata": {
  "kernelspec": {
   "display_name": "Python 3",
   "language": "python",
   "name": "python3"
  },
  "language_info": {
   "codemirror_mode": {
    "name": "ipython",
    "version": 3
   },
   "file_extension": ".py",
   "mimetype": "text/x-python",
   "name": "python",
   "nbconvert_exporter": "python",
   "pygments_lexer": "ipython3",
   "version": "3.9.0"
  }
 },
 "nbformat": 4,
 "nbformat_minor": 5
}
