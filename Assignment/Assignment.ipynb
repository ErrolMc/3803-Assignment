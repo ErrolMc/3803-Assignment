{
 "cells": [
  {
   "cell_type": "code",
   "execution_count": 4,
   "id": "behind-briefing",
   "metadata": {},
   "outputs": [],
   "source": [
    "import pandas as pd\n",
    "import matplotlib.pyplot as plt\n",
    "import numpy as np\n",
    "from datetime import datetime\n",
    "%matplotlib inline\n",
    "import json\n",
    "import seaborn\n",
    "import re\n"
   ]
  },
  {
   "cell_type": "markdown",
   "id": "eligible-prerequisite",
   "metadata": {},
   "source": [
    "## Load the data using pandas"
   ]
  },
  {
   "cell_type": "code",
   "execution_count": 5,
   "id": "disabled-august",
   "metadata": {},
   "outputs": [],
   "source": [
    "df = pd.read_csv('data.csv', parse_dates=True, dtype = {'Id':'string', 'Title': 'string', 'Company': 'string', 'Date': 'string', 'Location': 'string', 'Area': 'string', 'Classification': 'string', 'SubClassification': 'string', 'Requirement': 'string', 'FullDescription': 'string', 'LowestSalary': 'int', 'HighestSalary': 'int', 'JobType': 'string'})"
   ]
  },
  {
   "cell_type": "markdown",
   "id": "related-venture",
   "metadata": {},
   "source": [
    "## Clean the data"
   ]
  },
  {
   "cell_type": "code",
   "execution_count": 6,
   "id": "defensive-lyric",
   "metadata": {},
   "outputs": [],
   "source": [
    "df['Id'] = df['Id'].str.extract('(^[0-9]+)').astype(int)                         \n",
    "df['Date'] = pd.to_datetime(df['Date'])"
   ]
  },
  {
   "cell_type": "code",
   "execution_count": 7,
   "id": "proof-soldier",
   "metadata": {},
   "outputs": [
    {
     "name": "stdout",
     "output_type": "stream",
     "text": [
      "\n",
      " Id                                 int32\n",
      "Title                             string\n",
      "Company                           string\n",
      "Date                 datetime64[ns, UTC]\n",
      "Location                          string\n",
      "Area                              string\n",
      "Classification                    string\n",
      "SubClassification                 string\n",
      "Requirement                       string\n",
      "FullDescription                   string\n",
      "LowestSalary                       int32\n",
      "HighestSalary                      int32\n",
      "JobType                           string\n",
      "dtype: object\n"
     ]
    }
   ],
   "source": [
    "print('\\n', df.dtypes)\n"
   ]
  },
  {
   "cell_type": "markdown",
   "id": "familiar-unemployment",
   "metadata": {},
   "source": [
    "## Hypothesis 1: Tech will be dominant in capital cities"
   ]
  },
  {
   "cell_type": "code",
   "execution_count": 28,
   "id": "basic-highway",
   "metadata": {},
   "outputs": [
    {
     "name": "stdout",
     "output_type": "stream",
     "text": [
      "197229\n"
     ]
    }
   ],
   "source": [
    "class SubSector:\n",
    "    def __init__(self, name):\n",
    "        self.salaries = list()\n",
    "        self.name = name\n",
    "    def __str__(self):\n",
    "        return self.name \n",
    "    def AddSalary(self, lowest, highest):\n",
    "        self.salaries.append((lowest, highest))\n",
    "    def NumSalaries(self):\n",
    "        return len(self.salaries)\n",
    "    def AvgSalary(self):\n",
    "        total = 0\n",
    "        for tup in self.salaries:\n",
    "            total += tup[1]\n",
    "        return total / self.NumSalaries()\n",
    "    def AllSalaries(self):\n",
    "        allSalaries = list()\n",
    "        for salary in self.salaries:\n",
    "            allSalaries.append((self.name, salary[1]))\n",
    "        return allSalaries\n",
    "\n",
    "class Sector:\n",
    "    def __init__(self, name):\n",
    "        self.subSectors = dict()\n",
    "        self.name = name\n",
    "    def __str__(self):\n",
    "        return self.name \n",
    "    def AddSubSector(self, subSector, lowestSalary, highestSalary):\n",
    "        if subSector not in self.subSectors:\n",
    "            self.subSectors.update({subSector : SubSector(subSector)})\n",
    "        self.subSectors[subSector].AddSalary(lowestSalary, highestSalary)\n",
    "    def MostDominantSubSector(self):\n",
    "        subSector = object()\n",
    "        amt = 0\n",
    "        for key in self.subSectors:\n",
    "            cur = self.subSectors[key]\n",
    "            curAmt = cur.NumSalaries()\n",
    "            if cur > amt:\n",
    "                amt = cur\n",
    "                subSector = cur\n",
    "        return subSector\n",
    "    def NumSubSectors(self):\n",
    "        return len(self.subSectors)\n",
    "    def AvgSalary(self):\n",
    "        total = 0\n",
    "        for key in self.subSectors:\n",
    "            subSector = self.subSectors[key]\n",
    "            total += subSector.AvgSalary()\n",
    "        return total / self.NumSubSectors()\n",
    "    def AllSalaries(self):\n",
    "        allSalaries = list()\n",
    "        for key in self.subSectors:\n",
    "            subSector = self.subSectors[key]\n",
    "            subSalaries = subSector.AllSalaries()\n",
    "            for subSalary in subSalaries:\n",
    "                allSalaries.append((self.name, subSalary[0], subSalary[1]))\n",
    "        return allSalaries\n",
    "\n",
    "class City:\n",
    "    def __init__(self, name):\n",
    "        self.sectors = dict()\n",
    "        self.sectorCounts = dict()\n",
    "        self.name = name\n",
    "        self.capital = name in [\"Canberra\", \"Sydney\", \"Darwin\", \"Brisbane\", \"Adelaide\", \"Hobart\", \"Melbourne\", \"Perth\", \"ACT\"]\n",
    "    def IsCapital(self):\n",
    "        return self.capital\n",
    "    def __str__(self):\n",
    "        return self.name \n",
    "    def AddSector(self, sector, subSector, lowestSalary, highestSalary):\n",
    "        if sector not in self.sectors:\n",
    "            self.sectorCounts.update({sector : 1})\n",
    "            self.sectors.update({sector: Sector(sector)})\n",
    "        else:\n",
    "            self.sectorCounts[sector] += 1\n",
    "        self.sectors[sector].AddSubSector(subSector, lowestSalary, highestSalary)\n",
    "    def MostDominantSector(self):\n",
    "        sector = object()\n",
    "        amt = 0\n",
    "        for key in self.sectorCounts:\n",
    "            cur = self.sectorCounts[key]\n",
    "            if cur > amt:\n",
    "                amt = cur\n",
    "                sector = self.sectors[key]\n",
    "        return sector\n",
    "    def NumSectors(self):\n",
    "        return len(self.sectors)\n",
    "    def AvgSalary(self):\n",
    "        total = 0\n",
    "        for key in self.sectors:\n",
    "            total += self.sectors[key].AvgSalary()\n",
    "        return total / self.NumSectors()\n",
    "    def AllSalaries(self):\n",
    "        allSalaries = list()\n",
    "        for key in self.sectors:\n",
    "            sector = self.sectors[key]\n",
    "            salaries = sector.AllSalaries()\n",
    "            for salary in salaries:\n",
    "                allSalaries.append((self.name, salary[0], salary[1], salary[2]))\n",
    "        return allSalaries\n",
    "\n",
    "cityDict = dict()\n",
    "for index, row in df.iterrows():\n",
    "    city = row[\"Location\"]\n",
    "    sector = row[\"Classification\"]\n",
    "    subSector = row[\"SubClassification\"]\n",
    "    lowestSalary = row[\"LowestSalary\"]\n",
    "    highestSalary = row[\"HighestSalary\"]\n",
    "    \n",
    "    if not pd.isnull(city) and not pd.isnull(sector) and not pd.isnull(subSector) and not pd.isnull(lowestSalary) and not pd.isnull(highestSalary): \n",
    "        if city not in cityDict:\n",
    "            cityDict.update({city : City(city)})\n",
    "        cityDict[city].AddSector(sector, subSector, lowestSalary, highestSalary)\n",
    "\n",
    "allCities = list()\n",
    "capitals = list()\n",
    "nonCapitals = list()\n",
    "for key in cityDict:\n",
    "    cur = cityDict[key]\n",
    "    if cityDict[key].IsCapital():\n",
    "        capitals.append(cur)\n",
    "    else:\n",
    "        nonCapitals.append(cur)\n",
    "\n",
    "#print(\"Capitals\")\n",
    "for capital in capitals:\n",
    "    dominant = capital.MostDominantSector()\n",
    "    #print(str(capital) + \" (\" + str(dominant) + \") - \" + str(dominant.AvgSalary()))\n",
    "    allCities.append([str(capital), str(dominant), dominant.AvgSalary()])\n",
    "    \n",
    "#print(\"\\nNonCapitals\")\n",
    "for nonCapital in nonCapitals:\n",
    "    dominant = nonCapital.MostDominantSector()\n",
    "    #print(str(nonCapital) + \" (\" + str(dominant) + \") - \" + str(dominant.AvgSalary()))\n",
    "    allCities.append([str(nonCapital), str(dominant), dominant.AvgSalary()])\n",
    "\n",
    "#print(allCities)\n",
    "with open('baseData.json', 'w') as outfile:\n",
    "    json.dump(allCities, outfile)"
   ]
  },
  {
   "cell_type": "markdown",
   "id": "nutritional-prefix",
   "metadata": {},
   "source": [
    "### Text analysis"
   ]
  },
  {
   "cell_type": "code",
   "execution_count": 8,
   "id": "italian-toronto",
   "metadata": {},
   "outputs": [],
   "source": [
    "requirements = list()\n",
    "for index, row in df.iterrows():\n",
    "    sector = str(row[\"Classification\"])\n",
    "    requirement = str(row[\"Requirement\"]).strip()\n",
    "    \n",
    "    if sector == \"Information & Communication Technology\":\n",
    "        requirements.append(requirement)"
   ]
  },
  {
   "cell_type": "code",
   "execution_count": 11,
   "id": "deadly-brother",
   "metadata": {},
   "outputs": [
    {
     "name": "stdout",
     "output_type": "stream",
     "text": [
      "[('contract', 849.9973961419004), ('opportunity', 832.9341336343739), ('join', 829.6022350961781), ('team', 793.2975806517229), ('business', 720.8327124871363)]\n",
      "Top-5 documents\n",
      "0 :  VMware Engineer needed for a VmWare Migration project. We have a project required to migrate an ESXi Server remotely.\n",
      "1 :  Maintain, Support and provide Virtualisation (VMware) solutions to our enterprise clients | CBD Location | VMware/ vRealise/ Vblock\n",
      "2 :  This is a great role for a Java Developer with VMWare and AWS to work for a large CBD based Financial organisation\n",
      "3 :  Architect Virtualisation VMWare Cloud TOGAF Permanent\n",
      "4 :  Architect Virtualisation VMWare Cloud TOGAF Permanent\n"
     ]
    }
   ],
   "source": [
    "from sklearn.feature_extraction.text import CountVectorizer, TfidfVectorizer\n",
    "from sklearn.metrics.pairwise import linear_kernel, cosine_similarity\n",
    "\n",
    "tfidf = TfidfVectorizer(analyzer='word', ngram_range=(1, 1), min_df = 1, stop_words = 'english', max_features=500)\n",
    "\n",
    "features = tfidf.fit(requirements)\n",
    "corpus_tf_idf = tfidf.transform(requirements)\n",
    "\n",
    "sum_words = corpus_tf_idf.sum(axis=0)\n",
    "words_freq = [(word, sum_words[0, idx]) for word, idx in tfidf.vocabulary_.items()]\n",
    "\n",
    "print(sorted(words_freq, key = lambda x: x[1], reverse=True)[:5])\n",
    "\n",
    "query = \"vmware java\"\n",
    "\n",
    "new_features = tfidf.transform([query])\n",
    "\n",
    "cosine_similarities = linear_kernel(new_features, corpus_tf_idf).flatten()\n",
    "related_docs_indices = cosine_similarities.argsort()[::-1]\n",
    "\n",
    "topk = 5\n",
    "print('Top-{0} documents'.format(topk))\n",
    "for i in range(topk):\n",
    "    print(i, \": \", requirements[related_docs_indices[i]])"
   ]
  },
  {
   "cell_type": "markdown",
   "id": "bridal-activation",
   "metadata": {},
   "source": [
    "### Make a model to predict wage trends (forecasting)"
   ]
  },
  {
   "cell_type": "markdown",
   "id": "buried-cause",
   "metadata": {},
   "source": [
    "### Methods:\n",
    "##### 1) Moving Average\n",
    "##### 2) Weighted Moving Average\n",
    "##### 3) Exponential Smoothing\n",
    "##### 4) Exponential Smoothing with Trend\n",
    "##### 5) Seasonality"
   ]
  },
  {
   "cell_type": "code",
   "execution_count": 27,
   "id": "bound-shanghai",
   "metadata": {},
   "outputs": [],
   "source": [
    "salary_period_df = pd.DataFrame(columns=['Date', 'Period', 'Salary'])\n",
    "\n",
    "for index, row in df.iterrows():\n",
    "    date = row[\"Date\"]\n",
    "    sector = str(row[\"Classification\"])\n",
    "    lowestSalary = row[\"LowestSalary\"]\n",
    "    highestSalary = row[\"HighestSalary\"]\n",
    "    \n",
    "    newRow = {'Date': date, 'Period': 0, 'Salary': highestSalary}\n",
    "    #if sector == \"Information & Communication Technology\":\n",
    "    salary_period_df = salary_period_df.append(newRow, ignore_index=True)\n",
    "\n",
    "salary_period_df.sort_values(by=['Date'], inplace=True, ascending=False)"
   ]
  },
  {
   "cell_type": "code",
   "execution_count": 28,
   "id": "attended-skiing",
   "metadata": {},
   "outputs": [
    {
     "name": "stdout",
     "output_type": "stream",
     "text": [
      "                            Date Period Salary\n",
      "318476 2019-03-13 00:00:00+00:00      0    999\n",
      "318402 2019-03-13 00:00:00+00:00      0    100\n",
      "318389 2019-03-13 00:00:00+00:00      0     80\n",
      "318390 2019-03-13 00:00:00+00:00      0     80\n",
      "318391 2019-03-13 00:00:00+00:00      0     80\n"
     ]
    }
   ],
   "source": [
    "print(salary_period_df.head())"
   ]
  },
  {
   "cell_type": "code",
   "execution_count": 29,
   "id": "intermediate-stockholm",
   "metadata": {},
   "outputs": [],
   "source": [
    "compression_opts = dict(method='zip',\n",
    "                        archive_name='out.csv')  \n",
    "salary_period_df.to_csv('out.zip', index=False,\n",
    "          compression=compression_opts) "
   ]
  },
  {
   "cell_type": "markdown",
   "id": "charged-france",
   "metadata": {},
   "source": [
    "### The average of the top 25% of salaries in the tech industry will be larger than the average of the top 25% of salaries in any other sector."
   ]
  },
  {
   "cell_type": "code",
   "execution_count": 30,
   "id": "exciting-registrar",
   "metadata": {},
   "outputs": [
    {
     "name": "stdout",
     "output_type": "stream",
     "text": [
      "22796\n",
      "174433\n"
     ]
    }
   ],
   "source": [
    "allSalaries = list()\n",
    "for key in cityDict:\n",
    "    city = cityDict[key]\n",
    "    allSalaries.extend(city.AllSalaries())\n",
    "    \n",
    "techSalaries = list()\n",
    "otherSalaries = list()\n",
    "for salary in allSalaries:\n",
    "    sector = salary[1]\n",
    "    if sector == \"Information & Communication Technology\":\n",
    "        techSalaries.append(salary)\n",
    "    else:\n",
    "        otherSalaries.append(salary)"
   ]
  },
  {
   "cell_type": "code",
   "execution_count": null,
   "id": "orange-guarantee",
   "metadata": {},
   "outputs": [],
   "source": []
  }
 ],
 "metadata": {
  "kernelspec": {
   "display_name": "Python 3",
   "language": "python",
   "name": "python3"
  },
  "language_info": {
   "codemirror_mode": {
    "name": "ipython",
    "version": 3
   },
   "file_extension": ".py",
   "mimetype": "text/x-python",
   "name": "python",
   "nbconvert_exporter": "python",
   "pygments_lexer": "ipython3",
   "version": "3.9.0"
  },
  "metadata": {
   "interpreter": {
    "hash": "fc2b9b8e7ffc55491203f57f14c59c77deaf23810082ba77383500414caf9122"
   }
  }
 },
 "nbformat": 4,
 "nbformat_minor": 5
}
