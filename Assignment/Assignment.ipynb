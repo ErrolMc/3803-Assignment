{
 "cells": [
  {
   "cell_type": "code",
   "execution_count": 1,
   "id": "valuable-productivity",
   "metadata": {},
   "outputs": [],
   "source": [
    "import pandas as pd\n",
    "import matplotlib.pyplot as plt\n",
    "import numpy as np\n",
    "from datetime import datetime\n",
    "%matplotlib inline\n",
    "import json\n",
    "import seaborn\n",
    "import re\n"
   ]
  },
  {
   "cell_type": "markdown",
   "id": "impaired-things",
   "metadata": {},
   "source": [
    "## Load the data using pandas"
   ]
  },
  {
   "cell_type": "code",
   "execution_count": 2,
   "id": "acting-writing",
   "metadata": {},
   "outputs": [],
   "source": [
    "df = pd.read_csv('data.csv', parse_dates=True, dtype = {'Id':'string', 'Title': 'string', 'Company': 'string', 'Date': 'string', 'Location': 'string', 'Area': 'string', 'Classification': 'string', 'SubClassification': 'string', 'Requirement': 'string', 'FullDescription': 'string', 'LowestSalary': 'int', 'HighestSalary': 'int', 'JobType': 'string'})"
   ]
  },
  {
   "cell_type": "markdown",
   "id": "ecological-attack",
   "metadata": {},
   "source": [
    "## Clean the data"
   ]
  },
  {
   "cell_type": "code",
   "execution_count": 3,
   "id": "earlier-maryland",
   "metadata": {},
   "outputs": [],
   "source": [
    "df['Id'] = df['Id'].str.extract('(^[0-9]+)').astype(int)                         \n",
    "df['Date'] = pd.to_datetime(df['Date'])"
   ]
  },
  {
   "cell_type": "code",
   "execution_count": 4,
   "id": "transsexual-klein",
   "metadata": {},
   "outputs": [
    {
     "name": "stdout",
     "output_type": "stream",
     "text": [
      "\n",
      " Id                                 int32\n",
      "Title                             string\n",
      "Company                           string\n",
      "Date                 datetime64[ns, UTC]\n",
      "Location                          string\n",
      "Area                              string\n",
      "Classification                    string\n",
      "SubClassification                 string\n",
      "Requirement                       string\n",
      "FullDescription                   string\n",
      "LowestSalary                       int32\n",
      "HighestSalary                      int32\n",
      "JobType                           string\n",
      "dtype: object\n"
     ]
    }
   ],
   "source": [
    "print('\\n', df.dtypes)"
   ]
  },
  {
   "cell_type": "markdown",
   "id": "happy-employee",
   "metadata": {},
   "source": [
    "## Hypothesis 1: Tech will be dominant in capital cities"
   ]
  },
  {
   "cell_type": "code",
   "execution_count": 12,
   "id": "entire-mercy",
   "metadata": {},
   "outputs": [],
   "source": [
    "class SubSector:\n",
    "    def __init__(self, name):\n",
    "        self.salaries = list()\n",
    "        self.name = name\n",
    "    def __str__(self):\n",
    "        return self.name \n",
    "    def AddSalary(self, lowest, highest):\n",
    "        self.salaries.append((lowest, highest))\n",
    "    def NumSalaries(self):\n",
    "        return len(self.salaries)\n",
    "    def AvgSalary(self):\n",
    "        total = 0\n",
    "        for tup in self.salaries:\n",
    "            total += tup[1]\n",
    "        return total / self.NumSalaries()\n",
    "\n",
    "class Sector:\n",
    "    def __init__(self, name):\n",
    "        self.subSectors = dict()\n",
    "        self.name = name\n",
    "    def __str__(self):\n",
    "        return self.name \n",
    "    def AddSubSector(self, subSector, lowestSalary, highestSalary):\n",
    "        if subSector not in self.subSectors:\n",
    "            self.subSectors.update({subSector : SubSector(subSector)})\n",
    "        self.subSectors[subSector].AddSalary(lowestSalary, highestSalary)\n",
    "    def MostDominantSubSector(self):\n",
    "        subSector = object()\n",
    "        amt = 0\n",
    "        for key in self.subSectors:\n",
    "            cur = self.subSectors[key]\n",
    "            curAmt = cur.NumSalaries()\n",
    "            if cur > amt:\n",
    "                amt = cur\n",
    "                subSector = cur\n",
    "        return subSector\n",
    "    def NumSubSectors(self):\n",
    "        return len(self.subSectors)\n",
    "    def AvgSalary(self):\n",
    "        total = 0\n",
    "        for key in self.subSectors:\n",
    "            subSector = self.subSectors[key]\n",
    "            total += subSector.AvgSalary()\n",
    "        return total / self.NumSubSectors()\n",
    "\n",
    "class City:\n",
    "    def __init__(self, name):\n",
    "        self.sectors = dict()\n",
    "        self.sectorCounts = dict()\n",
    "        self.name = name\n",
    "        self.capital = name in [\"Canberra\", \"Sydney\", \"Darwin\", \"Brisbane\", \"Adelaide\", \"Hobart\", \"Melbourne\", \"Perth\", \"ACT\"]\n",
    "    def IsCapital(self):\n",
    "        return self.capital\n",
    "    def __str__(self):\n",
    "        return self.name \n",
    "    def AddSector(self, sector, subSector, lowestSalary, highestSalary):\n",
    "        if sector not in self.sectors:\n",
    "            self.sectorCounts.update({sector : 1})\n",
    "            self.sectors.update({sector: Sector(sector)})\n",
    "        else:\n",
    "            self.sectorCounts[sector] += 1\n",
    "        self.sectors[sector].AddSubSector(subSector, lowestSalary, highestSalary)\n",
    "    def MostDominantSector(self):\n",
    "        sector = object()\n",
    "        amt = 0\n",
    "        for key in self.sectorCounts:\n",
    "            cur = self.sectorCounts[key]\n",
    "            if cur > amt:\n",
    "                amt = cur\n",
    "                sector = self.sectors[key]\n",
    "        return sector\n",
    "    def NumSectors(self):\n",
    "        return len(self.sectors)\n",
    "    def AvgSalary(self):\n",
    "        total = 0\n",
    "        for key in self.sectors:\n",
    "            total += self.sectors[key].AvgSalary()\n",
    "        return total / self.NumSectors()\n",
    "\n",
    "cityDict = dict()\n",
    "for index, row in df.iterrows():\n",
    "    city = row[\"Location\"]\n",
    "    sector = row[\"Classification\"]\n",
    "    subSector = row[\"SubClassification\"]\n",
    "    lowestSalary = row[\"LowestSalary\"]\n",
    "    highestSalary = row[\"HighestSalary\"]\n",
    "    \n",
    "    if not pd.isnull(city) and not pd.isnull(sector) and not pd.isnull(subSector) and not pd.isnull(lowestSalary) and not pd.isnull(highestSalary): \n",
    "        if city not in cityDict:\n",
    "            cityDict.update({city : City(city)})\n",
    "        cityDict[city].AddSector(sector, subSector, lowestSalary, highestSalary)\n",
    "\n",
    "allCities = list()\n",
    "capitals = list()\n",
    "nonCapitals = list()\n",
    "for key in cityDict:\n",
    "    cur = cityDict[key]\n",
    "    if cityDict[key].IsCapital():\n",
    "        capitals.append(cur)\n",
    "    else:\n",
    "        nonCapitals.append(cur)\n",
    "\n",
    "#print(\"Capitals\")\n",
    "for capital in capitals:\n",
    "    dominant = capital.MostDominantSector()\n",
    "    #print(str(capital) + \" (\" + str(dominant) + \") - \" + str(dominant.AvgSalary()))\n",
    "    allCities.append([str(capital), str(dominant), dominant.AvgSalary()])\n",
    "\n",
    "#print(\"\\nNonCapitals\")\n",
    "for nonCapital in nonCapitals:\n",
    "    dominant = nonCapital.MostDominantSector()\n",
    "    #print(str(nonCapital) + \" (\" + str(dominant) + \") - \" + str(dominant.AvgSalary()))\n",
    "    allCities.append([str(nonCapital), str(dominant), dominant.AvgSalary()])\n",
    "\n",
    "#print(allCities)\n",
    "with open('baseData.json', 'w') as outfile:\n",
    "    json.dump(allCities, outfile)"
   ]
  },
  {
   "cell_type": "markdown",
   "id": "completed-gallery",
   "metadata": {},
   "source": [
    "### Text analysis"
   ]
  },
  {
   "cell_type": "code",
   "execution_count": 44,
   "id": "cleared-humor",
   "metadata": {},
   "outputs": [],
   "source": [
    "requirements = list()\n",
    "for index, row in df.iterrows():\n",
    "    sector = str(row[\"Classification\"])\n",
    "    requirement = str(row[\"Requirement\"]).strip()\n",
    "    \n",
    "    if sector == \"Information & Communication Technology\":\n",
    "        requirements.append(requirement)"
   ]
  },
  {
   "cell_type": "code",
   "execution_count": 55,
   "id": "pregnant-greece",
   "metadata": {},
   "outputs": [
    {
     "name": "stdout",
     "output_type": "stream",
     "text": [
      "[('contract', 849.9973961419004), ('opportunity', 832.9341336343739), ('join', 829.6022350961781), ('team', 793.2975806517229), ('business', 720.8327124871363)]\n",
      "Top-5 documents\n",
      "0 :  VMware Engineer needed for a VmWare Migration project. We have a project required to migrate an ESXi Server remotely.\n",
      "1 :  Maintain, Support and provide Virtualisation (VMware) solutions to our enterprise clients | CBD Location | VMware/ vRealise/ Vblock\n",
      "2 :  This is a great role for a Java Developer with VMWare and AWS to work for a large CBD based Financial organisation\n",
      "3 :  Architect Virtualisation VMWare Cloud TOGAF Permanent\n",
      "4 :  Architect Virtualisation VMWare Cloud TOGAF Permanent\n"
     ]
    }
   ],
   "source": [
    "from sklearn.feature_extraction.text import CountVectorizer, TfidfVectorizer\n",
    "from sklearn.metrics.pairwise import linear_kernel, cosine_similarity\n",
    "\n",
    "tfidf = TfidfVectorizer(analyzer='word', ngram_range=(1, 1), min_df = 1, stop_words = 'english', max_features=500)\n",
    "\n",
    "features = tfidf.fit(requirements)\n",
    "corpus_tf_idf = tfidf.transform(requirements)\n",
    "\n",
    "sum_words = corpus_tf_idf.sum(axis=0)\n",
    "words_freq = [(word, sum_words[0, idx]) for word, idx in tfidf.vocabulary_.items()]\n",
    "\n",
    "print(sorted(words_freq, key = lambda x: x[1], reverse=True)[:5])\n",
    "\n",
    "query = \"vmware java\"\n",
    "\n",
    "new_features = tfidf.transform([query])\n",
    "\n",
    "cosine_similarities = linear_kernel(new_features, corpus_tf_idf).flatten()\n",
    "related_docs_indices = cosine_similarities.argsort()[::-1]\n",
    "\n",
    "print('Top-{0} documents'.format(topk))\n",
    "for i in range(topk):\n",
    "    print(i, \": \", requirements[related_docs_indices[i]])"
   ]
  },
  {
   "cell_type": "code",
   "execution_count": null,
   "id": "sunset-polyester",
   "metadata": {},
   "outputs": [],
   "source": []
  },
  {
   "cell_type": "code",
   "execution_count": null,
   "id": "about-eagle",
   "metadata": {},
   "outputs": [],
   "source": []
  }
 ],
 "metadata": {
  "kernelspec": {
   "display_name": "Python 3",
   "language": "python",
   "name": "python3"
  },
  "language_info": {
   "codemirror_mode": {
    "name": "ipython",
    "version": 3
   },
   "file_extension": ".py",
   "mimetype": "text/x-python",
   "name": "python",
   "nbconvert_exporter": "python",
   "pygments_lexer": "ipython3",
   "version": "3.9.0"
  },
  "metadata": {
   "interpreter": {
    "hash": "fc2b9b8e7ffc55491203f57f14c59c77deaf23810082ba77383500414caf9122"
   }
  }
 },
 "nbformat": 4,
 "nbformat_minor": 5
}
