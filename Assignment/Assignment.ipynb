{
 "cells": [
  {
   "cell_type": "code",
   "execution_count": 128,
   "id": "downtown-stock",
   "metadata": {},
   "outputs": [],
   "source": [
    "import pandas as pd\n",
    "import matplotlib.pyplot as plt\n",
    "from datetime import datetime\n",
    "%matplotlib inline\n",
    "import seaborn\n",
    "import re"
   ]
  },
  {
   "cell_type": "code",
   "execution_count": 129,
   "id": "applicable-bibliography",
   "metadata": {},
   "outputs": [],
   "source": [
    "df = pd.read_csv('data.csv', parse_dates=True, date_parser=dateparse, dtype = {'Id':'string', 'Title': 'string', 'Company': 'string', 'Date': 'string', 'Location': 'string', 'Area': 'string', 'Classification': 'string', 'SubClassification': 'string', 'Requirement': 'string', 'FullDescription': 'string', 'LowestSalary': 'int', 'HighestSalary': 'int', 'JobType': 'string'})\n",
    "df['Id'] = df['Id'].str.extract('(^[0-9]+)').astype(int)\n",
    "df['Date'] = pd.to_datetime(df['Date'])"
   ]
  },
  {
   "cell_type": "code",
   "execution_count": 130,
   "id": "level-japanese",
   "metadata": {},
   "outputs": [
    {
     "name": "stdout",
     "output_type": "stream",
     "text": [
      "         Id                                              Title  \\\n",
      "0  37404348                           Casual Stock Replenisher   \n",
      "1  37404337                           Casual Stock Replenisher   \n",
      "2  37404356  RETAIL SALES SUPERSTARS and STYLISTS Wanted - ...   \n",
      "3  37404330                              Team member - Belrose   \n",
      "4  37404308  Business Banking Contact Centre Specialist, Ni...   \n",
      "\n",
      "                                          Company                      Date  \\\n",
      "0                                     Aldi Stores 2018-10-07 00:00:00+00:00   \n",
      "1                                     Aldi Stores 2018-10-07 00:00:00+00:00   \n",
      "2                             LB Creative Pty Ltd 2018-10-07 00:00:00+00:00   \n",
      "3                          Anaconda Group Pty Ltd 2018-10-07 00:00:00+00:00   \n",
      "4  Commonwealth Bank - Business & Private Banking 2018-10-07 00:00:00+00:00   \n",
      "\n",
      "                  Location                         Area  \\\n",
      "0                   Sydney  North West & Hills District   \n",
      "1    Richmond & Hawkesbury                         <NA>   \n",
      "2                 Brisbane          CBD & Inner Suburbs   \n",
      "3  Gosford & Central Coast                         <NA>   \n",
      "4                   Sydney        Ryde & Macquarie Park   \n",
      "\n",
      "                   Classification  SubClassification  \\\n",
      "0      Retail & Consumer Products  Retail Assistants   \n",
      "1      Retail & Consumer Products  Retail Assistants   \n",
      "2      Retail & Consumer Products  Retail Assistants   \n",
      "3      Retail & Consumer Products  Retail Assistants   \n",
      "4  Call Centre & Customer Service    Sales - Inbound   \n",
      "\n",
      "                                         Requirement FullDescription  \\\n",
      "0  Our Casual Stock Replenishers pride themselves...            <NA>   \n",
      "1  Our Casual Stock Replenishers pride themselves...            <NA>   \n",
      "2  BRAND NEW FLAGSHIP STORE OPENING - SUNSHINE PLAZA            <NA>   \n",
      "3  Bring it on - do you love the great outdoors a...            <NA>   \n",
      "4  We are seeking highly articulate, enthusiastic...            <NA>   \n",
      "\n",
      "   LowestSalary  HighestSalary JobType  \n",
      "0             0             30    <NA>  \n",
      "1             0             30    <NA>  \n",
      "2             0             30    <NA>  \n",
      "3             0             30    <NA>  \n",
      "4             0             30    <NA>  \n",
      "\n",
      " Id                                 int32\n",
      "Title                             string\n",
      "Company                           string\n",
      "Date                 datetime64[ns, UTC]\n",
      "Location                          string\n",
      "Area                              string\n",
      "Classification                    string\n",
      "SubClassification                 string\n",
      "Requirement                       string\n",
      "FullDescription                   string\n",
      "LowestSalary                       int32\n",
      "HighestSalary                      int32\n",
      "JobType                           string\n",
      "dtype: object\n"
     ]
    }
   ],
   "source": [
    "print(df.head())\n",
    "print('\\n', df.dtypes)"
   ]
  },
  {
   "cell_type": "code",
   "execution_count": null,
   "id": "manual-visiting",
   "metadata": {},
   "outputs": [],
   "source": []
  }
 ],
 "metadata": {
  "kernelspec": {
   "display_name": "Python 3",
   "language": "python",
   "name": "python3"
  },
  "language_info": {
   "codemirror_mode": {
    "name": "ipython",
    "version": 3
   },
   "file_extension": ".py",
   "mimetype": "text/x-python",
   "name": "python",
   "nbconvert_exporter": "python",
   "pygments_lexer": "ipython3",
   "version": "3.9.0"
  }
 },
 "nbformat": 4,
 "nbformat_minor": 5
}
