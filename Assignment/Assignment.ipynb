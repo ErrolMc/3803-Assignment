{
 "cells": [
  {
   "cell_type": "code",
   "execution_count": 2,
   "id": "wrong-samoa",
   "metadata": {},
   "outputs": [],
   "source": [
    "import pandas as pd\n",
    "import matplotlib.pyplot as plt\n",
    "import numpy as np\n",
    "from datetime import datetime\n",
    "%matplotlib inline\n",
    "import seaborn\n",
    "import re"
   ]
  },
  {
   "cell_type": "markdown",
   "id": "northern-thailand",
   "metadata": {},
   "source": [
    "## Load the data using pandas"
   ]
  },
  {
   "cell_type": "code",
   "execution_count": 3,
   "id": "loose-strength",
   "metadata": {},
   "outputs": [],
   "source": [
    "df = pd.read_csv('data.csv', parse_dates=True, dtype = {'Id':'string', 'Title': 'string', 'Company': 'string', 'Date': 'string', 'Location': 'string', 'Area': 'string', 'Classification': 'string', 'SubClassification': 'string', 'Requirement': 'string', 'FullDescription': 'string', 'LowestSalary': 'int', 'HighestSalary': 'int', 'JobType': 'string'})"
   ]
  },
  {
   "cell_type": "markdown",
   "id": "particular-samba",
   "metadata": {},
   "source": [
    "## Clean the data"
   ]
  },
  {
   "cell_type": "code",
   "execution_count": 4,
   "id": "alternative-saudi",
   "metadata": {},
   "outputs": [],
   "source": [
    "df['Id'] = df['Id'].str.extract('(^[0-9]+)').astype(int)                         \n",
    "df['Date'] = pd.to_datetime(df['Date'])"
   ]
  },
  {
   "cell_type": "code",
   "execution_count": 5,
   "id": "decent-framing",
   "metadata": {},
   "outputs": [
    {
     "name": "stdout",
     "output_type": "stream",
     "text": [
      "\n",
      " Id                                 int32\n",
      "Title                             string\n",
      "Company                           string\n",
      "Date                 datetime64[ns, UTC]\n",
      "Location                          string\n",
      "Area                              string\n",
      "Classification                    string\n",
      "SubClassification                 string\n",
      "Requirement                       string\n",
      "FullDescription                   string\n",
      "LowestSalary                       int32\n",
      "HighestSalary                      int32\n",
      "JobType                           string\n",
      "dtype: object\n"
     ]
    }
   ],
   "source": [
    "print('\\n', df.dtypes)"
   ]
  },
  {
   "cell_type": "markdown",
   "id": "elegant-episode",
   "metadata": {},
   "source": [
    "## Hypothesis 1: Tech will be dominant in capital cities"
   ]
  },
  {
   "cell_type": "code",
   "execution_count": 7,
   "id": "native-hotel",
   "metadata": {},
   "outputs": [
    {
     "name": "stdout",
     "output_type": "stream",
     "text": [
      "Capitals\n",
      "Sydney (Information & Communication Technology)\n",
      "Brisbane (Information & Communication Technology)\n",
      "Adelaide (Trades & Services)\n",
      "Melbourne (Information & Communication Technology)\n",
      "Perth (Trades & Services)\n",
      "Darwin (Healthcare & Medical)\n",
      "ACT (Information & Communication Technology)\n",
      "Hobart (Healthcare & Medical)\n",
      "\n",
      "NonCapitals\n",
      "Richmond & Hawkesbury (Manufacturing, Transport & Logistics)\n",
      "Gosford & Central Coast (Healthcare & Medical)\n",
      "Mackay & Coalfields (Mining, Resources & Energy)\n",
      "Sunshine Coast (Hospitality & Tourism)\n",
      "Gold Coast (Hospitality & Tourism)\n",
      "West Gippsland & Latrobe Valley (Healthcare & Medical)\n",
      "Hervey Bay & Fraser Coast (Healthcare & Medical)\n",
      "South West Coast VIC (Hospitality & Tourism)\n",
      "Mornington Peninsula & Bass Coast (Hospitality & Tourism)\n",
      "Port Hedland, Karratha & Pilbara (Mining, Resources & Energy)\n",
      "Ballarat & Central Highlands (Healthcare & Medical)\n",
      "Bendigo, Goldfields & Macedon Ranges (Healthcare & Medical)\n",
      "Yarra Valley & High Country (Hospitality & Tourism)\n",
      "Coffs Harbour & North Coast (Healthcare & Medical)\n",
      "Newcastle, Maitland & Hunter (Trades & Services)\n",
      "Tumut, Snowy & Monaro (Healthcare & Medical)\n",
      "Toowoomba & Darling Downs (Trades & Services)\n",
      "Wollongong, Illawarra & South Coast (Healthcare & Medical)\n",
      "Port Macquarie & Mid North Coast (Healthcare & Medical)\n",
      "Southern Highlands & Tablelands (Hospitality & Tourism)\n",
      "Albury Area (Healthcare & Medical)\n",
      "Yorke Peninsula & Clare Valley (Healthcare & Medical)\n",
      "Kalgoorlie, Goldfields & Esperance (Mining, Resources & Energy)\n",
      "Far West & North Central NSW (Healthcare & Medical)\n",
      "Cairns & Far North (Healthcare & Medical)\n",
      "Wagga Wagga & Riverina (Healthcare & Medical)\n",
      "Lismore & Far North Coast (Hospitality & Tourism)\n",
      "Alice Springs & Central Australia (Healthcare & Medical)\n",
      "Dubbo & Central NSW (Healthcare & Medical)\n",
      "Devonport & North West (Healthcare & Medical)\n",
      "Launceston & North East (Healthcare & Medical)\n",
      "Whyalla & Eyre Peninsula (Trades & Services)\n",
      "Northern QLD (Healthcare & Medical)\n",
      "Bunbury & South West (Trades & Services)\n",
      "Geraldton, Gascoyne & Midwest (Mining, Resources & Energy)\n",
      "Katherine & Northern Australia (Healthcare & Medical)\n",
      "Adelaide Hills & Barossa (Hospitality & Tourism)\n",
      "Riverland & Murray Mallee (Trades & Services)\n",
      "Horsham & Grampians (Healthcare & Medical)\n",
      "Rockhampton & Capricorn Coast (Healthcare & Medical)\n",
      "Shepparton & Goulburn Valley (Healthcare & Medical)\n",
      "Bairnsdale & Gippsland (Education & Training)\n",
      "Mt Gambier & Limestone Coast (Healthcare & Medical)\n",
      "Blue Mountains & Central West (Trades & Services)\n",
      "Mildura & Murray (Healthcare & Medical)\n",
      "Gladstone & Central QLD (Mining, Resources & Energy)\n",
      "Somerset & Lockyer (Manufacturing, Transport & Logistics)\n",
      "Western QLD (Healthcare & Medical)\n",
      "Albany & Great Southern (Healthcare & Medical)\n",
      "Broome & Kimberley (Healthcare & Medical)\n",
      "Bundaberg & Wide Bay Burnett (Healthcare & Medical)\n",
      "Mandurah & Peel (Mining, Resources & Energy)\n",
      "Fleurieu Peninsula & Kangaroo Island (Hospitality & Tourism)\n",
      "Northam & Wheatbelt (Healthcare & Medical)\n",
      "Tamworth & North West NSW (Healthcare & Medical)\n",
      "Central & South East TAS (Healthcare & Medical)\n",
      "Coober Pedy & Outback SA (Mining, Resources & Energy)\n"
     ]
    }
   ],
   "source": [
    "class Sector:\n",
    "    def __init__(self, name):\n",
    "        self.subSectorCounts = dict()\n",
    "        self.name = name\n",
    "    def AddSubSector(self, subSector):\n",
    "        if subSector not in self.subSectorCounts:\n",
    "            self.subSectorCounts.update({subSector : 1})\n",
    "        else:\n",
    "            self.subSectorCounts[subSector] += 1\n",
    "    def MostDominant(self):\n",
    "        subSector = \"\"\n",
    "        amt = 0\n",
    "        for key in self.subSectorCounts:\n",
    "            cur = self.subSectorCounts[key]\n",
    "            if cur > amt:\n",
    "                amt = cur\n",
    "                subSector = key\n",
    "        return sector\n",
    "\n",
    "class City:\n",
    "    def __init__(self, name):\n",
    "        self.sectors = dict()\n",
    "        self.sectorCounts = dict()\n",
    "        self.name = name\n",
    "        self.capital = name in [\"Canberra\", \"Sydney\", \"Darwin\", \"Brisbane\", \"Adelaide\", \"Hobart\", \"Melbourne\", \"Perth\", \"ACT\"]\n",
    "    def IsCapital(self):\n",
    "        return self.capital\n",
    "    def __str__(self):\n",
    "        return self.name + \" (\" + self.MostDominant() + \")\" \n",
    "    def AddSector(self, sector, subSector):\n",
    "        if sector not in self.sectors:\n",
    "            self.sectorCounts.update({sector : 1})\n",
    "            self.sectors.update({sector: Sector(sector)})\n",
    "        else:\n",
    "            self.sectorCounts[sector] += 1\n",
    "        self.sectors[sector].AddSubSector(subSector)\n",
    "    def MostDominant(self):\n",
    "        sector = \"\"\n",
    "        amt = 0\n",
    "        for key in self.sectorCounts:\n",
    "            cur = self.sectorCounts[key]\n",
    "            if cur > amt:\n",
    "                amt = cur\n",
    "                sector = key\n",
    "        return sector\n",
    "\n",
    "cityDict = dict()\n",
    "for index, row in df.iterrows():\n",
    "    city = row[\"Location\"]\n",
    "    sector = row[\"Classification\"]\n",
    "    subSector = row[\"SubClassification\"]\n",
    "    \n",
    "    if not pd.isnull(city) and not pd.isnull(sector): \n",
    "        if city not in cityDict:\n",
    "            cityDict.update({city : City(city)})\n",
    "        cityDict[city].AddSector(sector, subSector)\n",
    "\n",
    "capitals = list()\n",
    "nonCapitals = list()\n",
    "for key in cityDict:\n",
    "    cur = str(cityDict[key])\n",
    "    if cityDict[key].IsCapital():\n",
    "        capitals.append(cur)\n",
    "    else:\n",
    "        nonCapitals.append(cur)\n",
    "\n",
    "print(\"Capitals\")\n",
    "for capital in capitals:\n",
    "    print(capital)\n",
    "\n",
    "print(\"\\nNonCapitals\")\n",
    "for nonCapital in nonCapitals:\n",
    "    print(nonCapital)"
   ]
  },
  {
   "cell_type": "markdown",
   "id": "pursuant-employment",
   "metadata": {},
   "source": [
    "## Hypothesis 2: We do not think sub categories of industries will vary in average salary costs in different australian cities."
   ]
  },
  {
   "cell_type": "code",
   "execution_count": null,
   "id": "therapeutic-strip",
   "metadata": {},
   "outputs": [],
   "source": []
  }
 ],
 "metadata": {
  "kernelspec": {
   "display_name": "Python 3",
   "language": "python",
   "name": "python3"
  },
  "language_info": {
   "codemirror_mode": {
    "name": "ipython",
    "version": 3
   },
   "file_extension": ".py",
   "mimetype": "text/x-python",
   "name": "python",
   "nbconvert_exporter": "python",
   "pygments_lexer": "ipython3",
   "version": "3.9.0"
  }
 },
 "nbformat": 4,
 "nbformat_minor": 5
}
