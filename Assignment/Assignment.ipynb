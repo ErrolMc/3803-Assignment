{
 "cells": [
  {
   "cell_type": "code",
   "execution_count": 19,
   "id": "bulgarian-vietnamese",
   "metadata": {},
   "outputs": [],
   "source": [
    "import pandas as pd\n",
    "import matplotlib.pyplot as plt\n",
    "import numpy as np\n",
    "from datetime import datetime\n",
    "%matplotlib inline\n",
    "import json\n",
    "import seaborn\n",
    "import re\n"
   ]
  },
  {
   "cell_type": "markdown",
   "id": "ordinary-namibia",
   "metadata": {},
   "source": [
    "## Load the data using pandas"
   ]
  },
  {
   "cell_type": "code",
   "execution_count": 20,
   "id": "beginning-aruba",
   "metadata": {},
   "outputs": [],
   "source": [
    "df = pd.read_csv('data.csv', parse_dates=True, dtype = {'Id':'string', 'Title': 'string', 'Company': 'string', 'Date': 'string', 'Location': 'string', 'Area': 'string', 'Classification': 'string', 'SubClassification': 'string', 'Requirement': 'string', 'FullDescription': 'string', 'LowestSalary': 'int', 'HighestSalary': 'int', 'JobType': 'string'})"
   ]
  },
  {
   "cell_type": "markdown",
   "id": "usual-perry",
   "metadata": {},
   "source": [
    "## Clean the data"
   ]
  },
  {
   "cell_type": "code",
   "execution_count": 21,
   "id": "private-infection",
   "metadata": {},
   "outputs": [],
   "source": [
    "df['Id'] = df['Id'].str.extract('(^[0-9]+)').astype(int)                         \n",
    "df['Date'] = pd.to_datetime(df['Date'])"
   ]
  },
  {
   "cell_type": "code",
   "execution_count": 22,
   "id": "organizational-ranking",
   "metadata": {},
   "outputs": [
    {
     "output_type": "stream",
     "name": "stdout",
     "text": [
      "\n Id                                 int32\nTitle                             string\nCompany                           string\nDate                 datetime64[ns, UTC]\nLocation                          string\nArea                              string\nClassification                    string\nSubClassification                 string\nRequirement                       string\nFullDescription                   string\nLowestSalary                       int32\nHighestSalary                      int32\nJobType                           string\ndtype: object\n"
     ]
    }
   ],
   "source": [
    "print('\\n', df.dtypes)"
   ]
  },
  {
   "cell_type": "markdown",
   "id": "frequent-sense",
   "metadata": {},
   "source": [
    "## Hypothesis 1: Tech will be dominant in capital cities"
   ]
  },
  {
   "cell_type": "code",
   "execution_count": 24,
   "id": "corporate-carroll",
   "metadata": {},
   "outputs": [
    {
     "output_type": "stream",
     "name": "stdout",
     "text": [
      "Capitals\nSydney (Information & Communication Technology) - 236.7014297873612\nBrisbane (Information & Communication Technology) - 234.5485975770055\nAdelaide (Trades & Services) - 53.73280049814219\nMelbourne (Information & Communication Technology) - 225.908935290161\nPerth (Trades & Services) - 65.00354375425074\nDarwin (Healthcare & Medical) - 168.23990683229812\nACT (Information & Communication Technology) - 343.602212980112\nHobart (Healthcare & Medical) - 144.7873395761327\n\nNonCapitals\nRichmond & Hawkesbury (Manufacturing, Transport & Logistics) - 109.21861471861472\nGosford & Central Coast (Healthcare & Medical) - 116.88692745616767\nMackay & Coalfields (Mining, Resources & Energy) - 154.63717324866337\nSunshine Coast (Hospitality & Tourism) - 46.09313087383522\nGold Coast (Hospitality & Tourism) - 48.21824862434942\nWest Gippsland & Latrobe Valley (Healthcare & Medical) - 118.23896103896104\nHervey Bay & Fraser Coast (Healthcare & Medical) - 155.15836385836388\nSouth West Coast VIC (Hospitality & Tourism) - 43.751490546490544\nMornington Peninsula & Bass Coast (Hospitality & Tourism) - 44.24535944143788\nPort Hedland, Karratha & Pilbara (Mining, Resources & Energy) - 167.16341717770825\nBallarat & Central Highlands (Healthcare & Medical) - 126.2938727938728\nBendigo, Goldfields & Macedon Ranges (Healthcare & Medical) - 78.65321035321035\nYarra Valley & High Country (Hospitality & Tourism) - 43.152020962098476\nCoffs Harbour & North Coast (Healthcare & Medical) - 242.0048629148629\nNewcastle, Maitland & Hunter (Trades & Services) - 60.037202542867\nTumut, Snowy & Monaro (Healthcare & Medical) - 195.8125\nToowoomba & Darling Downs (Trades & Services) - 61.63845869184579\nWollongong, Illawarra & South Coast (Healthcare & Medical) - 133.05693310079272\nPort Macquarie & Mid North Coast (Healthcare & Medical) - 227.87062844562843\nSouthern Highlands & Tablelands (Hospitality & Tourism) - 47.776526526526524\nAlbury Area (Healthcare & Medical) - 147.31688596491227\nYorke Peninsula & Clare Valley (Healthcare & Medical) - 163.86363636363637\nKalgoorlie, Goldfields & Esperance (Mining, Resources & Energy) - 130.2921444219103\nFar West & North Central NSW (Healthcare & Medical) - 181.3388888888889\nCairns & Far North (Healthcare & Medical) - 109.47886270108494\nWagga Wagga & Riverina (Healthcare & Medical) - 183.65546016812166\nLismore & Far North Coast (Hospitality & Tourism) - 46.11076280041797\nAlice Springs & Central Australia (Healthcare & Medical) - 175.82328282828283\nDubbo & Central NSW (Healthcare & Medical) - 165.4816510725273\nDevonport & North West (Healthcare & Medical) - 148.6702380952381\nLaunceston & North East (Healthcare & Medical) - 182.77188552188554\nWhyalla & Eyre Peninsula (Trades & Services) - 56.348484848484844\nNorthern QLD (Healthcare & Medical) - 197.0975324854043\nBunbury & South West (Trades & Services) - 57.66676852559206\nGeraldton, Gascoyne & Midwest (Mining, Resources & Energy) - 158.050982671175\nKatherine & Northern Australia (Healthcare & Medical) - 181.13472222222225\nAdelaide Hills & Barossa (Hospitality & Tourism) - 49.46666666666666\nRiverland & Murray Mallee (Trades & Services) - 56.63636363636363\nHorsham & Grampians (Healthcare & Medical) - 159.13888888888889\nRockhampton & Capricorn Coast (Healthcare & Medical) - 143.28684736980193\nShepparton & Goulburn Valley (Healthcare & Medical) - 112.92708333333333\nBairnsdale & Gippsland (Education & Training) - 76.99273436115541\nMt Gambier & Limestone Coast (Healthcare & Medical) - 171.80335497835497\nBlue Mountains & Central West (Trades & Services) - 55.391415389685285\nMildura & Murray (Healthcare & Medical) - 217.05396825396824\nGladstone & Central QLD (Mining, Resources & Energy) - 134.17596782302664\nSomerset & Lockyer (Manufacturing, Transport & Logistics) - 48.8095238095238\nWestern QLD (Healthcare & Medical) - 149.90175438596492\nAlbany & Great Southern (Healthcare & Medical) - 269.2761904761905\nBroome & Kimberley (Healthcare & Medical) - 259.5080532212885\nBundaberg & Wide Bay Burnett (Healthcare & Medical) - 186.9663735095314\nMandurah & Peel (Mining, Resources & Energy) - 197.8167013167013\nFleurieu Peninsula & Kangaroo Island (Hospitality & Tourism) - 49.72222222222222\nNortham & Wheatbelt (Healthcare & Medical) - 232.48051948051946\nTamworth & North West NSW (Healthcare & Medical) - 160.14475500345065\nCentral & South East TAS (Healthcare & Medical) - 98.66666666666666\nCoober Pedy & Outback SA (Mining, Resources & Energy) - 101.65350877192982\n"
     ]
    }
   ],
   "source": [
    "class SubSector:\n",
    "    def __init__(self, name):\n",
    "        self.salaries = list()\n",
    "        self.name = name\n",
    "    def __str__(self):\n",
    "        return self.name \n",
    "    def AddSalary(self, lowest, highest):\n",
    "        self.salaries.append((lowest, highest))\n",
    "    def NumSalaries(self):\n",
    "        return len(self.salaries)\n",
    "    def AvgSalary(self):\n",
    "        total = 0\n",
    "        for tup in self.salaries:\n",
    "            total += tup[1]\n",
    "        return total / self.NumSalaries()\n",
    "\n",
    "class Sector:\n",
    "    def __init__(self, name):\n",
    "        self.subSectors = dict()\n",
    "        self.name = name\n",
    "    def __str__(self):\n",
    "        return self.name \n",
    "    def AddSubSector(self, subSector, lowestSalary, highestSalary):\n",
    "        if subSector not in self.subSectors:\n",
    "            self.subSectors.update({subSector : SubSector(subSector)})\n",
    "        self.subSectors[subSector].AddSalary(lowestSalary, highestSalary)\n",
    "    def MostDominantSubSector(self):\n",
    "        subSector = object()\n",
    "        amt = 0\n",
    "        for key in self.subSectors:\n",
    "            cur = self.subSectors[key]\n",
    "            curAmt = cur.NumSalaries()\n",
    "            if cur > amt:\n",
    "                amt = cur\n",
    "                subSector = cur\n",
    "        return subSector\n",
    "    def NumSubSectors(self):\n",
    "        return len(self.subSectors)\n",
    "    def AvgSalary(self):\n",
    "        total = 0\n",
    "        for key in self.subSectors:\n",
    "            subSector = self.subSectors[key]\n",
    "            total += subSector.AvgSalary()\n",
    "        return total / self.NumSubSectors()\n",
    "\n",
    "class City:\n",
    "    def __init__(self, name):\n",
    "        self.sectors = dict()\n",
    "        self.sectorCounts = dict()\n",
    "        self.name = name\n",
    "        self.capital = name in [\"Canberra\", \"Sydney\", \"Darwin\", \"Brisbane\", \"Adelaide\", \"Hobart\", \"Melbourne\", \"Perth\", \"ACT\"]\n",
    "    def IsCapital(self):\n",
    "        return self.capital\n",
    "    def __str__(self):\n",
    "        return self.name \n",
    "    def AddSector(self, sector, subSector, lowestSalary, highestSalary):\n",
    "        if sector not in self.sectors:\n",
    "            self.sectorCounts.update({sector : 1})\n",
    "            self.sectors.update({sector: Sector(sector)})\n",
    "        else:\n",
    "            self.sectorCounts[sector] += 1\n",
    "        self.sectors[sector].AddSubSector(subSector, lowestSalary, highestSalary)\n",
    "    def MostDominantSector(self):\n",
    "        sector = object()\n",
    "        amt = 0\n",
    "        for key in self.sectorCounts:\n",
    "            cur = self.sectorCounts[key]\n",
    "            if cur > amt:\n",
    "                amt = cur\n",
    "                sector = self.sectors[key]\n",
    "        return sector\n",
    "    def NumSectors(self):\n",
    "        return len(self.sectors)\n",
    "    def AvgSalary(self):\n",
    "        total = 0\n",
    "        for key in self.sectors:\n",
    "            total += self.sectors[key].AvgSalary()\n",
    "        return total / self.NumSectors()\n",
    "\n",
    "cityDict = dict()\n",
    "for index, row in df.iterrows():\n",
    "    city = row[\"Location\"]\n",
    "    sector = row[\"Classification\"]\n",
    "    subSector = row[\"SubClassification\"]\n",
    "    lowestSalary = row[\"LowestSalary\"]\n",
    "    highestSalary = row[\"HighestSalary\"]\n",
    "    \n",
    "    if not pd.isnull(city) and not pd.isnull(sector) and not pd.isnull(subSector) and not pd.isnull(lowestSalary) and not pd.isnull(highestSalary): \n",
    "        if city not in cityDict:\n",
    "            cityDict.update({city : City(city)})\n",
    "        cityDict[city].AddSector(sector, subSector, lowestSalary, highestSalary)\n",
    "\n",
    "allCities = list()\n",
    "capitals = list()\n",
    "nonCapitals = list()\n",
    "for key in cityDict:\n",
    "    cur = cityDict[key]\n",
    "    if cityDict[key].IsCapital():\n",
    "        capitals.append(cur)\n",
    "    else:\n",
    "        nonCapitals.append(cur)\n",
    "\n",
    "\n",
    "print(\"Capitals\")\n",
    "for capital in capitals:\n",
    "    dominant = capital.MostDominantSector()\n",
    "    print(str(capital) + \" (\" + str(dominant) + \") - \" + str(dominant.AvgSalary()))\n",
    "    allCities.append([str(capital), str(dominant), dominant.AvgSalary()])\n",
    "\n",
    "print(\"\\nNonCapitals\")\n",
    "for nonCapital in nonCapitals:\n",
    "    dominant = nonCapital.MostDominantSector()\n",
    "    print(str(nonCapital) + \" (\" + str(dominant) + \") - \" + str(dominant.AvgSalary()))\n",
    "    allCities.append([str(nonCapital), str(dominant), dominant.AvgSalary()])\n",
    "\n",
    "#print(allCities)\n",
    "with open('baseData.json', 'w') as outfile:\n",
    "    json.dump(allCities, outfile)"
   ]
  },
  {
   "cell_type": "markdown",
   "id": "south-defendant",
   "metadata": {},
   "source": [
    "## Hypothesis 2: We do not think sub categories of industries will vary in average salary costs in different australian cities."
   ]
  },
  {
   "cell_type": "code",
   "execution_count": null,
   "id": "original-spoke",
   "metadata": {},
   "outputs": [],
   "source": []
  }
 ],
 "metadata": {
  "kernelspec": {
   "name": "python391jvsc74a57bd0fc2b9b8e7ffc55491203f57f14c59c77deaf23810082ba77383500414caf9122",
   "display_name": "Python 3.9.1 64-bit"
  },
  "language_info": {
   "codemirror_mode": {
    "name": "ipython",
    "version": 3
   },
   "file_extension": ".py",
   "mimetype": "text/x-python",
   "name": "python",
   "nbconvert_exporter": "python",
   "pygments_lexer": "ipython3",
   "version": "3.9.1"
  },
  "metadata": {
   "interpreter": {
    "hash": "fc2b9b8e7ffc55491203f57f14c59c77deaf23810082ba77383500414caf9122"
   }
  }
 },
 "nbformat": 4,
 "nbformat_minor": 5
}