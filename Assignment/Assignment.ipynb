{
 "cells": [
  {
   "cell_type": "code",
   "execution_count": 21,
   "id": "expected-chart",
   "metadata": {},
   "outputs": [],
   "source": [
    "import pandas as pd\n",
    "import matplotlib.pyplot as plt\n",
    "import numpy as np\n",
    "from datetime import datetime\n",
    "%matplotlib inline\n",
    "import json\n",
    "import seaborn\n",
    "import re"
   ]
  },
  {
   "cell_type": "markdown",
   "id": "provincial-corrections",
   "metadata": {},
   "source": [
    "## Load the data using pandas"
   ]
  },
  {
   "cell_type": "code",
   "execution_count": 2,
   "id": "electronic-nancy",
   "metadata": {},
   "outputs": [],
   "source": [
    "df = pd.read_csv('data.csv', parse_dates=True, dtype = {'Id':'string', 'Title': 'string', 'Company': 'string', 'Date': 'string', 'Location': 'string', 'Area': 'string', 'Classification': 'string', 'SubClassification': 'string', 'Requirement': 'string', 'FullDescription': 'string', 'LowestSalary': 'int', 'HighestSalary': 'int', 'JobType': 'string'})"
   ]
  },
  {
   "cell_type": "markdown",
   "id": "cleared-filing",
   "metadata": {},
   "source": [
    "## Clean the data"
   ]
  },
  {
   "cell_type": "code",
   "execution_count": 3,
   "id": "accomplished-division",
   "metadata": {},
   "outputs": [],
   "source": [
    "df['Id'] = df['Id'].str.extract('(^[0-9]+)').astype(int)                         \n",
    "df['Date'] = pd.to_datetime(df['Date'])"
   ]
  },
  {
   "cell_type": "code",
   "execution_count": 4,
   "id": "mature-spoke",
   "metadata": {},
   "outputs": [
    {
     "name": "stdout",
     "output_type": "stream",
     "text": [
      "\n",
      " Id                                 int32\n",
      "Title                             string\n",
      "Company                           string\n",
      "Date                 datetime64[ns, UTC]\n",
      "Location                          string\n",
      "Area                              string\n",
      "Classification                    string\n",
      "SubClassification                 string\n",
      "Requirement                       string\n",
      "FullDescription                   string\n",
      "LowestSalary                       int32\n",
      "HighestSalary                      int32\n",
      "JobType                           string\n",
      "dtype: object\n"
     ]
    }
   ],
   "source": [
    "print('\\n', df.dtypes)"
   ]
  },
  {
   "cell_type": "markdown",
   "id": "suitable-scenario",
   "metadata": {},
   "source": [
    "## Hypothesis 1: Tech will be dominant in capital cities"
   ]
  },
  {
   "cell_type": "code",
   "execution_count": 5,
   "id": "activated-albert",
   "metadata": {},
   "outputs": [],
   "source": [
    "class SubSector:\n",
    "    def __init__(self, name):\n",
    "        self.salaries = list()\n",
    "        self.name = name\n",
    "    def __str__(self):\n",
    "        return self.name \n",
    "    def AddSalary(self, lowest, highest):\n",
    "        self.salaries.append((lowest, highest))\n",
    "    def NumSalaries(self):\n",
    "        return len(self.salaries)\n",
    "    def AvgSalary(self):\n",
    "        total = 0\n",
    "        for tup in self.salaries:\n",
    "            total += tup[1]\n",
    "        return total / self.NumSalaries()\n",
    "    def AllSalaries(self):\n",
    "        allSalaries = list()\n",
    "        for salary in self.salaries:\n",
    "            allSalaries.append((self.name, salary[1]))\n",
    "        return allSalaries\n",
    "\n",
    "class Sector:\n",
    "    def __init__(self, name):\n",
    "        self.subSectors = dict()\n",
    "        self.name = name\n",
    "    def __str__(self):\n",
    "        return self.name \n",
    "    def AddSubSector(self, subSector, lowestSalary, highestSalary):\n",
    "        if subSector not in self.subSectors:\n",
    "            self.subSectors.update({subSector : SubSector(subSector)})\n",
    "        self.subSectors[subSector].AddSalary(lowestSalary, highestSalary)\n",
    "    def MostDominantSubSector(self):\n",
    "        subSector = object()\n",
    "        amt = 0\n",
    "        for key in self.subSectors:\n",
    "            cur = self.subSectors[key]\n",
    "            curAmt = cur.NumSalaries()\n",
    "            if cur > amt:\n",
    "                amt = cur\n",
    "                subSector = cur\n",
    "        return subSector\n",
    "    def NumSubSectors(self):\n",
    "        return len(self.subSectors)\n",
    "    def AvgSalary(self):\n",
    "        total = 0\n",
    "        for key in self.subSectors:\n",
    "            subSector = self.subSectors[key]\n",
    "            total += subSector.AvgSalary()\n",
    "        return total / self.NumSubSectors()\n",
    "    def AllSalaries(self):\n",
    "        allSalaries = list()\n",
    "        for key in self.subSectors:\n",
    "            subSector = self.subSectors[key]\n",
    "            subSalaries = subSector.AllSalaries()\n",
    "            for subSalary in subSalaries:\n",
    "                allSalaries.append((self.name, subSalary[0], subSalary[1]))\n",
    "        return allSalaries\n",
    "\n",
    "class City:\n",
    "    def __init__(self, name):\n",
    "        self.sectors = dict()\n",
    "        self.sectorCounts = dict()\n",
    "        self.name = name\n",
    "        self.capital = name in [\"Canberra\", \"Sydney\", \"Darwin\", \"Brisbane\", \"Adelaide\", \"Hobart\", \"Melbourne\", \"Perth\", \"ACT\"]\n",
    "    def IsCapital(self):\n",
    "        return self.capital\n",
    "    def __str__(self):\n",
    "        return self.name \n",
    "    def AddSector(self, sector, subSector, lowestSalary, highestSalary):\n",
    "        if sector not in self.sectors:\n",
    "            self.sectorCounts.update({sector : 1})\n",
    "            self.sectors.update({sector: Sector(sector)})\n",
    "        else:\n",
    "            self.sectorCounts[sector] += 1\n",
    "        self.sectors[sector].AddSubSector(subSector, lowestSalary, highestSalary)\n",
    "    def MostDominantSector(self):\n",
    "        sector = object()\n",
    "        amt = 0\n",
    "        for key in self.sectorCounts:\n",
    "            cur = self.sectorCounts[key]\n",
    "            if cur > amt:\n",
    "                amt = cur\n",
    "                sector = self.sectors[key]\n",
    "        return sector\n",
    "    def NumSectors(self):\n",
    "        return len(self.sectors)\n",
    "    def AvgSalary(self):\n",
    "        total = 0\n",
    "        for key in self.sectors:\n",
    "            total += self.sectors[key].AvgSalary()\n",
    "        return total / self.NumSectors()\n",
    "    def AllSalaries(self):\n",
    "        allSalaries = list()\n",
    "        for key in self.sectors:\n",
    "            sector = self.sectors[key]\n",
    "            salaries = sector.AllSalaries()\n",
    "            for salary in salaries:\n",
    "                allSalaries.append((self.name, salary[0], salary[1], salary[2]))\n",
    "        return allSalaries\n",
    "\n",
    "cityDict = dict()\n",
    "for index, row in df.iterrows():\n",
    "    city = row[\"Location\"]\n",
    "    sector = row[\"Classification\"]\n",
    "    subSector = row[\"SubClassification\"]\n",
    "    lowestSalary = row[\"LowestSalary\"]\n",
    "    highestSalary = row[\"HighestSalary\"]\n",
    "    \n",
    "    if not pd.isnull(city) and not pd.isnull(sector) and not pd.isnull(subSector) and not pd.isnull(lowestSalary) and not pd.isnull(highestSalary): \n",
    "        if city not in cityDict:\n",
    "            cityDict.update({city : City(city)})\n",
    "        cityDict[city].AddSector(sector, subSector, lowestSalary, highestSalary)\n",
    "\n",
    "allCities = list()\n",
    "capitals = list()\n",
    "nonCapitals = list()\n",
    "for key in cityDict:\n",
    "    cur = cityDict[key]\n",
    "    if cityDict[key].IsCapital():\n",
    "        capitals.append(cur)\n",
    "    else:\n",
    "        nonCapitals.append(cur)\n",
    "\n",
    "#print(\"Capitals\")\n",
    "for capital in capitals:\n",
    "    dominant = capital.MostDominantSector()\n",
    "    #print(str(capital) + \" (\" + str(dominant) + \") - \" + str(dominant.AvgSalary()))\n",
    "    allCities.append([str(capital), str(dominant), dominant.AvgSalary()])\n",
    "    \n",
    "#print(\"\\nNonCapitals\")\n",
    "for nonCapital in nonCapitals:\n",
    "    dominant = nonCapital.MostDominantSector()\n",
    "    #print(str(nonCapital) + \" (\" + str(dominant) + \") - \" + str(dominant.AvgSalary()))\n",
    "    allCities.append([str(nonCapital), str(dominant), dominant.AvgSalary()])\n",
    "\n",
    "#print(allCities)\n",
    "with open('baseData.json', 'w') as outfile:\n",
    "    json.dump(allCities, outfile)"
   ]
  },
  {
   "cell_type": "markdown",
   "id": "imperial-lotus",
   "metadata": {},
   "source": [
    "### Text analysis"
   ]
  },
  {
   "cell_type": "code",
   "execution_count": 6,
   "id": "included-delta",
   "metadata": {},
   "outputs": [],
   "source": [
    "requirements = list()\n",
    "for index, row in df.iterrows():\n",
    "    sector = str(row[\"Classification\"])\n",
    "    requirement = str(row[\"Requirement\"]).strip()\n",
    "    \n",
    "    if sector == \"Information & Communication Technology\":\n",
    "        requirements.append(requirement)"
   ]
  },
  {
   "cell_type": "code",
   "execution_count": 7,
   "id": "subsequent-nylon",
   "metadata": {},
   "outputs": [
    {
     "name": "stdout",
     "output_type": "stream",
     "text": [
      "[('contract', 849.9973961419004), ('opportunity', 832.9341336343739), ('join', 829.6022350961781), ('team', 793.2975806517229), ('business', 720.8327124871363)]\n",
      "Top-5 documents\n",
      "0 :  VMware Engineer needed for a VmWare Migration project. We have a project required to migrate an ESXi Server remotely.\n",
      "1 :  Maintain, Support and provide Virtualisation (VMware) solutions to our enterprise clients | CBD Location | VMware/ vRealise/ Vblock\n",
      "2 :  This is a great role for a Java Developer with VMWare and AWS to work for a large CBD based Financial organisation\n",
      "3 :  Architect Virtualisation VMWare Cloud TOGAF Permanent\n",
      "4 :  Architect Virtualisation VMWare Cloud TOGAF Permanent\n"
     ]
    }
   ],
   "source": [
    "from sklearn.feature_extraction.text import CountVectorizer, TfidfVectorizer\n",
    "from sklearn.metrics.pairwise import linear_kernel, cosine_similarity\n",
    "\n",
    "tfidf = TfidfVectorizer(analyzer='word', ngram_range=(1, 1), min_df = 1, stop_words = 'english', max_features=500)\n",
    "\n",
    "features = tfidf.fit(requirements)\n",
    "corpus_tf_idf = tfidf.transform(requirements)\n",
    "\n",
    "sum_words = corpus_tf_idf.sum(axis=0)\n",
    "words_freq = [(word, sum_words[0, idx]) for word, idx in tfidf.vocabulary_.items()]\n",
    "\n",
    "print(sorted(words_freq, key = lambda x: x[1], reverse=True)[:5])\n",
    "\n",
    "query = \"vmware java\"\n",
    "\n",
    "new_features = tfidf.transform([query])\n",
    "\n",
    "cosine_similarities = linear_kernel(new_features, corpus_tf_idf).flatten()\n",
    "related_docs_indices = cosine_similarities.argsort()[::-1]\n",
    "\n",
    "topk = 5\n",
    "print('Top-{0} documents'.format(topk))\n",
    "for i in range(topk):\n",
    "    print(i, \": \", requirements[related_docs_indices[i]])"
   ]
  },
  {
   "cell_type": "markdown",
   "id": "steady-intervention",
   "metadata": {},
   "source": [
    "### Make a model to predict wage trends (forecasting)"
   ]
  },
  {
   "cell_type": "markdown",
   "id": "rocky-election",
   "metadata": {},
   "source": [
    "### Methods:\n",
    "##### 1) Moving Average\n",
    "##### 2) Weighted Moving Average\n",
    "##### 3) Exponential Smoothing\n",
    "##### 4) Exponential Smoothing with Trend\n",
    "##### 5) Seasonality"
   ]
  },
  {
   "cell_type": "code",
   "execution_count": 8,
   "id": "canadian-causing",
   "metadata": {},
   "outputs": [],
   "source": [
    "salary_df = df[[\"Date\", \"HighestSalary\"]]\n",
    "salary_df = salary_df.rename(columns = {'HighestSalary': 'Salary'} )"
   ]
  },
  {
   "cell_type": "code",
   "execution_count": 9,
   "id": "frequent-samuel",
   "metadata": {},
   "outputs": [],
   "source": [
    "def GetStartOfWeek(date):\n",
    "    return date - pd.to_timedelta(date.dt.weekday, unit='D')\n",
    "\n",
    "def GetStartOfMonth(date):\n",
    "    return date.to_numpy().astype('datetime64[M]')\n",
    "\n",
    "def AddMonths(date, numMonths):\n",
    "    return date + pd.DateOffset(months=numMonths)\n",
    "\n",
    "def AddWeeks(date, numWeeks):\n",
    "    numDays = 7 * numWeeks\n",
    "    return date + pd.DateOffset(days=numDays)\n",
    "\n",
    "salary_df.sort_values(by=[\"Date\"], inplace=True, ascending=True)\n",
    "\n",
    "startTime = salary_df.iloc[0][\"Date\"]\n",
    "salary_df['Period'] = salary_df[\"Date\"].dt.isocalendar().week + ((salary_df[\"Date\"].dt.isocalendar().year - startTime.year) * 52)\n",
    "#salary_df['Period'] = salary_df['Date'].dt.month + ((salary_df['Date'].dt.isocalendar().year - startTime.year) * 12)\n",
    "\n",
    "#timeA = salary_df.iloc[224458]['Date']\n",
    "#timeB = salary_df.iloc[224459]['Date']\n",
    "#print(timeA, \" \", timeB)\n",
    "#print(timeA.month, \" \", timeB.month)"
   ]
  },
  {
   "cell_type": "code",
   "execution_count": 13,
   "id": "victorian-blend",
   "metadata": {},
   "outputs": [],
   "source": [
    "period_df = pd.DataFrame(columns=['Period', 'TotalSalary', 'NumSalaries'])\n",
    "periods = list()\n",
    "salaries = list()\n",
    "amounts = list()\n",
    "\n",
    "curPeriod = 0\n",
    "curTotal = 0\n",
    "curAmt = 0\n",
    "for index, row in salary_df.iterrows():\n",
    "    period = row['Period']\n",
    "    salary = row['Salary']\n",
    "    \n",
    "    if period not in periods:\n",
    "        periods.append(period)\n",
    "        curPeriod = period\n",
    "        if curTotal > 0:\n",
    "            salaries.append(curTotal)\n",
    "            amounts.append(curAmt)\n",
    "            curTotal = 0\n",
    "            curAmt = 0\n",
    "            \n",
    "    curTotal += salary\n",
    "    curAmt += 1\n",
    "    \n",
    "salaries.append(curTotal)\n",
    "amounts.append(curAmt)\n",
    "        \n",
    "period_df[\"Period\"] = periods\n",
    "period_df[\"TotalSalary\"] = salaries\n",
    "period_df[\"NumSalaries\"] = amounts\n",
    "period_df[\"AvgSalary\"] = period_df[\"TotalSalary\"] / period_df[\"NumSalaries\"]"
   ]
  },
  {
   "cell_type": "code",
   "execution_count": 28,
   "id": "pressing-effects",
   "metadata": {},
   "outputs": [
    {
     "name": "stdout",
     "output_type": "stream",
     "text": [
      "    Period  TotalSalary  NumSalaries   AvgSalary  MovingAverage\n",
      "0       40      2656176        23673  112.202763            NaN\n",
      "1       41      2697453        22641  119.140188            NaN\n",
      "2       42      3856715        40213   95.907169            NaN\n",
      "3       43      1704822         5779  295.002942     109.083373\n",
      "4       44      3145816        26801  117.376814     170.016766\n",
      "5       45      2030026        24041   84.440165     169.428975\n",
      "6       46       378918        10028   37.785999     165.606640\n",
      "7       47        47763          359  133.044568      79.867659\n",
      "8       48       738908         1397  528.924839      85.090244\n",
      "9       49      1839500         4048  454.421937     233.251802\n",
      "10      50      4700886        38522  122.031203     372.130448\n",
      "11      51      2365883        17079  138.525850     368.459326\n",
      "12      52       662051         9878   67.022778     238.326330\n",
      "13      53      2128008        23546   90.376624     109.193277\n",
      "14      54      2905469        24477  118.702006      98.641751\n",
      "15      55      1242290         7685  161.651269      92.033803\n",
      "16      56      1345241        15727   85.537038     123.576633\n",
      "17      57        29097          328   88.710366     121.963438\n",
      "18      58       236450         2404   98.356905     111.966224\n",
      "19      59      1199599        13576   88.361741      90.868103\n",
      "20      60       390837         4724   82.734335      91.809671\n",
      "21      61       102499         1211   84.639967      89.817661\n",
      "22      62        22778          215  105.944186      85.245348\n",
      "23      63        16884          125  135.072000      91.106163\n"
     ]
    },
    {
     "data": {
      "image/png": "[encoded data removed]",
      "text/plain": [
       "<Figure size 432x288 with 1 Axes>"
      ]
     },
     "metadata": {
      "needs_background": "light"
     },
     "output_type": "display_data"
    }
   ],
   "source": [
    "def MovingAverage(df, column, newColumn, k):\n",
    "    values = list()\n",
    "    num_df = len(df)\n",
    "    for m in range(0, num_df):\n",
    "        if m < k:\n",
    "            sale_predict = float('nan')\n",
    "        else:\n",
    "            history = df[column][m-k:m]\n",
    "            sale_predict = history.mean()\n",
    "        values.append(sale_predict)\n",
    "    \n",
    "    df[newColumn] = values\n",
    "    return df\n",
    "\n",
    "period_df = MovingAverage(period_df, 'AvgSalary', 'MovingAverage', 3)\n",
    "\n",
    "print(period_df)\n",
    "\n",
    "f, ax = plt.subplots(1, 1)\n",
    "sns.pointplot(x='Period', y='MovingAverage', data=period_df, color='b')\n",
    "sns.pointplot(x='Period', y='AvgSalary', data=period_df, color='g')\n",
    "ax.legend(handles=ax.lines[::len(period_df)+1], labels=[\"MovingAverage\", \"AvgSalary\"])\n",
    "plt.show()\n",
    "\n",
    "#compression_opts = dict(method='zip', archive_name='export.csv')  \n",
    "#salary_period_df.to_csv('export.zip', index=False, compression=compression_opts) "
   ]
  },
  {
   "cell_type": "markdown",
   "id": "limited-springfield",
   "metadata": {},
   "source": [
    "### The average of the top 25% of salaries in the tech industry will be larger than the average of the top 25% of salaries in any other sector."
   ]
  },
  {
   "cell_type": "code",
   "execution_count": 12,
   "id": "subtle-flood",
   "metadata": {},
   "outputs": [],
   "source": [
    "allSalaries = list()\n",
    "for key in cityDict:\n",
    "    city = cityDict[key]\n",
    "    allSalaries.extend(city.AllSalaries())\n",
    "    \n",
    "techSalaries = list()\n",
    "otherSalaries = list()\n",
    "for salary in allSalaries:\n",
    "    sector = salary[1]\n",
    "    if sector == \"Information & Communication Technology\":\n",
    "        techSalaries.append(salary)\n",
    "    else:\n",
    "        otherSalaries.append(salary)"
   ]
  }
 ],
 "metadata": {
  "kernelspec": {
   "display_name": "Python 3",
   "language": "python",
   "name": "python3"
  },
  "language_info": {
   "codemirror_mode": {
    "name": "ipython",
    "version": 3
   },
   "file_extension": ".py",
   "mimetype": "text/x-python",
   "name": "python",
   "nbconvert_exporter": "python",
   "pygments_lexer": "ipython3",
   "version": "3.9.0"
  },
  "metadata": {
   "interpreter": {
    "hash": "fc2b9b8e7ffc55491203f57f14c59c77deaf23810082ba77383500414caf9122"
   }
  }
 },
 "nbformat": 4,
 "nbformat_minor": 5
}
