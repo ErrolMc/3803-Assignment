{
 "cells": [
  {
   "cell_type": "markdown",
   "id": "discrete-swing",
   "metadata": {},
   "source": [
    "### Imports"
   ]
  },
  {
   "cell_type": "code",
   "execution_count": 4,
   "id": "welcome-washington",
   "metadata": {},
   "outputs": [],
   "source": [
    "import pandas as pd\n",
    "import matplotlib.pyplot as plt\n",
    "from datetime import datetime\n",
    "%matplotlib inline\n",
    "import seaborn\n",
    "import re"
   ]
  },
  {
   "cell_type": "markdown",
   "id": "innovative-hanging",
   "metadata": {},
   "source": [
    "### Read Data"
   ]
  },
  {
   "cell_type": "code",
   "execution_count": 5,
   "id": "combined-elizabeth",
   "metadata": {},
   "outputs": [],
   "source": [
    "df = pd.read_csv('data.csv', parse_dates=True, dtype = {'Id':'string', 'Title': 'string', 'Company': 'string', 'Date': 'string', 'Location': 'string', 'Area': 'string', 'Classification': 'string', 'SubClassification': 'string', 'Requirement': 'string', 'FullDescription': 'string', 'LowestSalary': 'int', 'HighestSalary': 'int', 'JobType': 'string'})\n",
    "df['Id'] = df['Id'].str.extract('(^[0-9]+)').astype(int)                         \n",
    "df['Date'] = pd.to_datetime(df['Date'])"
   ]
  },
  {
   "cell_type": "markdown",
   "id": "tribal-croatia",
   "metadata": {},
   "source": [
    "### What are the popular "
   ]
  },
  {
   "cell_type": "code",
   "execution_count": 6,
   "id": "median-length",
   "metadata": {},
   "outputs": [
    {
     "name": "stdout",
     "output_type": "stream",
     "text": [
      "('Self Employment', 93)\n",
      "('Advertising, Arts & Media', 833)\n",
      "('CEO & General Management', 844)\n",
      "('Farming, Animals & Conservation', 882)\n",
      "('Science & Technology', 905)\n",
      "('Sport & Recreation', 984)\n",
      "('Consulting & Strategy', 1206)\n",
      "('Insurance & Superannuation', 1474)\n",
      "('Design & Architecture', 1811)\n",
      "('Real Estate & Property', 3614)\n",
      "('Marketing & Communications', 3968)\n",
      "('Call Centre & Customer Service', 3971)\n",
      "('Human Resources & Recruitment', 4144)\n",
      "('Legal', 4237)\n",
      "('Community Services & Development', 4485)\n",
      "('Banking & Financial Services', 4633)\n",
      "('Mining, Resources & Energy', 6288)\n",
      "('Engineering', 6458)\n",
      "('Government & Defence', 7443)\n",
      "('Retail & Consumer Products', 8041)\n",
      "('Sales', 8119)\n",
      "('Construction', 8372)\n",
      "('Education & Training', 9280)\n",
      "('Accounting', 9368)\n",
      "('Administration & Office Support', 10020)\n",
      "('Manufacturing, Transport & Logistics', 12376)\n",
      "('Hospitality & Tourism', 15523)\n",
      "('Healthcare & Medical', 17085)\n",
      "('Trades & Services', 17976)\n",
      "('Information & Communication Technology', 22796)\n",
      "(<NA>, 121248)\n"
     ]
    }
   ],
   "source": [
    "counts = dict()\n",
    "for row in df[\"Classification\"]:\n",
    "    if row not in counts:\n",
    "        counts.update({row: 1})\n",
    "    else:\n",
    "        counts[row] += 1\n",
    "\n",
    "categories = list()\n",
    "for key in counts:\n",
    "    categories.append((key, counts[key]))\n",
    "\n",
    "categories.sort(key=lambda tup: tup[1])\n",
    "\n",
    "for tup in categories:\n",
    "    print(tup)"
   ]
  },
  {
   "cell_type": "code",
   "execution_count": null,
   "id": "thick-symphony",
   "metadata": {},
   "outputs": [],
   "source": []
  }
 ],
 "metadata": {
  "kernelspec": {
   "display_name": "Python 3",
   "language": "python",
   "name": "python3"
  },
  "language_info": {
   "codemirror_mode": {
    "name": "ipython",
    "version": 3
   },
   "file_extension": ".py",
   "mimetype": "text/x-python",
   "name": "python",
   "nbconvert_exporter": "python",
   "pygments_lexer": "ipython3",
   "version": "3.9.0"
  }
 },
 "nbformat": 4,
 "nbformat_minor": 5
}
